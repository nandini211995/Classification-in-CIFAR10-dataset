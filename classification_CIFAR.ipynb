{
  "nbformat": 4,
  "nbformat_minor": 0,
  "metadata": {
    "colab": {
      "name": "DAI_Assignment1_Q3.ipynb",
      "provenance": []
    },
    "kernelspec": {
      "name": "python3",
      "display_name": "Python 3"
    }
  },
  "cells": [
    {
      "cell_type": "code",
      "metadata": {
        "id": "SyErTm05jRKo"
      },
      "source": [
        "import numpy as np\n",
        "import matplotlib.pyplot as plt\n",
        "import pandas as pd\n",
        "import tensorflow as tf\n",
        "import seaborn as sns\n",
        "from tensorflow import keras\n",
        "from sklearn import model_selection, svm, preprocessing\n",
        "from sklearn.metrics import accuracy_score,confusion_matrix\n",
        "from matplotlib.pyplot import figure"
      ],
      "execution_count": null,
      "outputs": []
    },
    {
      "cell_type": "code",
      "metadata": {
        "id": "GAeAB2tvkOkA"
      },
      "source": [
        "from keras.datasets import cifar10\n",
        "from keras.utils import to_categorical"
      ],
      "execution_count": null,
      "outputs": []
    },
    {
      "cell_type": "code",
      "metadata": {
        "id": "MqRCr6nCkdKH"
      },
      "source": [
        "(train_img, train_label), (test_img, test_label) = cifar10.load_data()"
      ],
      "execution_count": null,
      "outputs": []
    },
    {
      "cell_type": "code",
      "metadata": {
        "colab": {
          "base_uri": "https://localhost:8080/"
        },
        "id": "La9qbbIVkmUA",
        "outputId": "b3c2af3d-9049-45d9-a156-b3e23241d2da"
      },
      "source": [
        "# summarize loaded dataset\n",
        "print('Train: X=%s, y=%s' % (train_img.shape, train_label.shape))\n",
        "print('Test: X=%s, y=%s' % (test_img.shape, test_label.shape))"
      ],
      "execution_count": null,
      "outputs": [
        {
          "output_type": "stream",
          "text": [
            "Train: X=(50000, 32, 32, 3), y=(50000, 1)\n",
            "Test: X=(10000, 32, 32, 3), y=(10000, 1)\n"
          ],
          "name": "stdout"
        }
      ]
    },
    {
      "cell_type": "code",
      "metadata": {
        "id": "X9yQVIGYsOBE"
      },
      "source": [
        "train_imgr = train_img.reshape(train_img.shape[0], train_img.shape[1] * train_img.shape[2]*train_img.shape[3])\n",
        "train_labelr = train_label.reshape(train_label.shape[0]*train_label.shape[1])"
      ],
      "execution_count": null,
      "outputs": []
    },
    {
      "cell_type": "code",
      "metadata": {
        "colab": {
          "base_uri": "https://localhost:8080/"
        },
        "id": "QjLhgm5qsaBh",
        "outputId": "b54d4243-23e0-4108-c5c3-0f6b4866be23"
      },
      "source": [
        "train_imgr.shape , train_labelr.shape"
      ],
      "execution_count": null,
      "outputs": [
        {
          "output_type": "execute_result",
          "data": {
            "text/plain": [
              "((50000, 3072), (50000,))"
            ]
          },
          "metadata": {
            "tags": []
          },
          "execution_count": 6
        }
      ]
    },
    {
      "cell_type": "code",
      "metadata": {
        "id": "UarXhYqGsqxh"
      },
      "source": [
        "test_imgr = test_img.reshape(test_img.shape[0], test_img.shape[1] * test_img.shape[2]*test_img.shape[3])\n",
        "test_labelr = test_label.reshape(test_label.shape[0]*test_label.shape[1])"
      ],
      "execution_count": null,
      "outputs": []
    },
    {
      "cell_type": "code",
      "metadata": {
        "colab": {
          "base_uri": "https://localhost:8080/"
        },
        "id": "Gw7_dRFfs1kL",
        "outputId": "45d7388d-6613-4299-e8fb-deb9707c012c"
      },
      "source": [
        "test_imgr.shape"
      ],
      "execution_count": null,
      "outputs": [
        {
          "output_type": "execute_result",
          "data": {
            "text/plain": [
              "(10000, 3072)"
            ]
          },
          "metadata": {
            "tags": []
          },
          "execution_count": 8
        }
      ]
    },
    {
      "cell_type": "code",
      "metadata": {
        "id": "ejznwVpjs_y0"
      },
      "source": [
        "cifar_train_df = pd.DataFrame({\"labels\":list(train_labelr),\"images\":list(train_imgr)})\n",
        "cifar_test_df = pd.DataFrame({\"labels\":list(test_labelr),\"images\":list(test_imgr)})"
      ],
      "execution_count": null,
      "outputs": []
    },
    {
      "cell_type": "code",
      "metadata": {
        "colab": {
          "base_uri": "https://localhost:8080/",
          "height": 402
        },
        "id": "FOcuZGzitHxu",
        "outputId": "45188b7c-bcb9-4a5a-8d16-4abdbea5ae83"
      },
      "source": [
        "cifar_train_df"
      ],
      "execution_count": null,
      "outputs": [
        {
          "output_type": "execute_result",
          "data": {
            "text/html": [
              "<div>\n",
              "<style scoped>\n",
              "    .dataframe tbody tr th:only-of-type {\n",
              "        vertical-align: middle;\n",
              "    }\n",
              "\n",
              "    .dataframe tbody tr th {\n",
              "        vertical-align: top;\n",
              "    }\n",
              "\n",
              "    .dataframe thead th {\n",
              "        text-align: right;\n",
              "    }\n",
              "</style>\n",
              "<table border=\"1\" class=\"dataframe\">\n",
              "  <thead>\n",
              "    <tr style=\"text-align: right;\">\n",
              "      <th></th>\n",
              "      <th>labels</th>\n",
              "      <th>images</th>\n",
              "    </tr>\n",
              "  </thead>\n",
              "  <tbody>\n",
              "    <tr>\n",
              "      <th>0</th>\n",
              "      <td>6</td>\n",
              "      <td>[59, 62, 63, 43, 46, 45, 50, 48, 43, 68, 54, 4...</td>\n",
              "    </tr>\n",
              "    <tr>\n",
              "      <th>1</th>\n",
              "      <td>9</td>\n",
              "      <td>[154, 177, 187, 126, 137, 136, 105, 104, 95, 1...</td>\n",
              "    </tr>\n",
              "    <tr>\n",
              "      <th>2</th>\n",
              "      <td>9</td>\n",
              "      <td>[255, 255, 255, 253, 253, 253, 253, 253, 253, ...</td>\n",
              "    </tr>\n",
              "    <tr>\n",
              "      <th>3</th>\n",
              "      <td>4</td>\n",
              "      <td>[28, 25, 10, 37, 34, 19, 38, 35, 20, 42, 37, 2...</td>\n",
              "    </tr>\n",
              "    <tr>\n",
              "      <th>4</th>\n",
              "      <td>1</td>\n",
              "      <td>[170, 180, 198, 168, 178, 196, 177, 185, 203, ...</td>\n",
              "    </tr>\n",
              "    <tr>\n",
              "      <th>...</th>\n",
              "      <td>...</td>\n",
              "      <td>...</td>\n",
              "    </tr>\n",
              "    <tr>\n",
              "      <th>49995</th>\n",
              "      <td>2</td>\n",
              "      <td>[145, 161, 194, 151, 166, 199, 156, 171, 205, ...</td>\n",
              "    </tr>\n",
              "    <tr>\n",
              "      <th>49996</th>\n",
              "      <td>6</td>\n",
              "      <td>[255, 245, 132, 254, 247, 134, 255, 249, 137, ...</td>\n",
              "    </tr>\n",
              "    <tr>\n",
              "      <th>49997</th>\n",
              "      <td>9</td>\n",
              "      <td>[35, 178, 235, 40, 176, 239, 42, 176, 241, 39,...</td>\n",
              "    </tr>\n",
              "    <tr>\n",
              "      <th>49998</th>\n",
              "      <td>1</td>\n",
              "      <td>[189, 211, 240, 186, 208, 236, 185, 207, 235, ...</td>\n",
              "    </tr>\n",
              "    <tr>\n",
              "      <th>49999</th>\n",
              "      <td>1</td>\n",
              "      <td>[229, 229, 239, 236, 237, 247, 234, 236, 247, ...</td>\n",
              "    </tr>\n",
              "  </tbody>\n",
              "</table>\n",
              "<p>50000 rows × 2 columns</p>\n",
              "</div>"
            ],
            "text/plain": [
              "       labels                                             images\n",
              "0           6  [59, 62, 63, 43, 46, 45, 50, 48, 43, 68, 54, 4...\n",
              "1           9  [154, 177, 187, 126, 137, 136, 105, 104, 95, 1...\n",
              "2           9  [255, 255, 255, 253, 253, 253, 253, 253, 253, ...\n",
              "3           4  [28, 25, 10, 37, 34, 19, 38, 35, 20, 42, 37, 2...\n",
              "4           1  [170, 180, 198, 168, 178, 196, 177, 185, 203, ...\n",
              "...       ...                                                ...\n",
              "49995       2  [145, 161, 194, 151, 166, 199, 156, 171, 205, ...\n",
              "49996       6  [255, 245, 132, 254, 247, 134, 255, 249, 137, ...\n",
              "49997       9  [35, 178, 235, 40, 176, 239, 42, 176, 241, 39,...\n",
              "49998       1  [189, 211, 240, 186, 208, 236, 185, 207, 235, ...\n",
              "49999       1  [229, 229, 239, 236, 237, 247, 234, 236, 247, ...\n",
              "\n",
              "[50000 rows x 2 columns]"
            ]
          },
          "metadata": {
            "tags": []
          },
          "execution_count": 10
        }
      ]
    },
    {
      "cell_type": "code",
      "metadata": {
        "id": "pv_y7VlwtS_B"
      },
      "source": [
        "cifar_train_finaldf = cifar_train_df[cifar_train_df['labels'].isin(['5', '6','7','8','9']) ]\n",
        "cifar_train_finaldf = cifar_train_finaldf.replace({'labels': {5: 0, 6: 1,7:2,8:3,9:4}})\n",
        "cifar_test_finaldf = cifar_test_df[cifar_test_df['labels'].isin(['5', '6','7','8','9']) ]\n",
        "cifar_test_finaldf = cifar_test_finaldf.replace({'labels': {5: 0, 6: 1,7:2,8:3,9:4}})"
      ],
      "execution_count": null,
      "outputs": []
    },
    {
      "cell_type": "code",
      "metadata": {
        "colab": {
          "base_uri": "https://localhost:8080/",
          "height": 402
        },
        "id": "Y5xVTSXkv__y",
        "outputId": "3975ccb2-5b34-4513-826a-43a5557eaaae"
      },
      "source": [
        "cifar_test_finaldf"
      ],
      "execution_count": null,
      "outputs": [
        {
          "output_type": "execute_result",
          "data": {
            "text/html": [
              "<div>\n",
              "<style scoped>\n",
              "    .dataframe tbody tr th:only-of-type {\n",
              "        vertical-align: middle;\n",
              "    }\n",
              "\n",
              "    .dataframe tbody tr th {\n",
              "        vertical-align: top;\n",
              "    }\n",
              "\n",
              "    .dataframe thead th {\n",
              "        text-align: right;\n",
              "    }\n",
              "</style>\n",
              "<table border=\"1\" class=\"dataframe\">\n",
              "  <thead>\n",
              "    <tr style=\"text-align: right;\">\n",
              "      <th></th>\n",
              "      <th>labels</th>\n",
              "      <th>images</th>\n",
              "    </tr>\n",
              "  </thead>\n",
              "  <tbody>\n",
              "    <tr>\n",
              "      <th>1</th>\n",
              "      <td>3</td>\n",
              "      <td>[235, 235, 235, 231, 231, 231, 232, 232, 232, ...</td>\n",
              "    </tr>\n",
              "    <tr>\n",
              "      <th>2</th>\n",
              "      <td>3</td>\n",
              "      <td>[158, 190, 222, 158, 187, 218, 139, 166, 194, ...</td>\n",
              "    </tr>\n",
              "    <tr>\n",
              "      <th>4</th>\n",
              "      <td>1</td>\n",
              "      <td>[65, 68, 50, 70, 81, 64, 48, 64, 46, 30, 46, 3...</td>\n",
              "    </tr>\n",
              "    <tr>\n",
              "      <th>5</th>\n",
              "      <td>1</td>\n",
              "      <td>[179, 118, 83, 139, 96, 61, 77, 49, 26, 88, 59...</td>\n",
              "    </tr>\n",
              "    <tr>\n",
              "      <th>7</th>\n",
              "      <td>1</td>\n",
              "      <td>[83, 94, 85, 82, 94, 84, 81, 93, 83, 77, 89, 7...</td>\n",
              "    </tr>\n",
              "    <tr>\n",
              "      <th>...</th>\n",
              "      <td>...</td>\n",
              "      <td>...</td>\n",
              "    </tr>\n",
              "    <tr>\n",
              "      <th>9990</th>\n",
              "      <td>2</td>\n",
              "      <td>[84, 120, 98, 98, 125, 103, 99, 125, 105, 100,...</td>\n",
              "    </tr>\n",
              "    <tr>\n",
              "      <th>9993</th>\n",
              "      <td>0</td>\n",
              "      <td>[95, 98, 92, 93, 92, 90, 96, 89, 92, 92, 84, 8...</td>\n",
              "    </tr>\n",
              "    <tr>\n",
              "      <th>9995</th>\n",
              "      <td>3</td>\n",
              "      <td>[76, 78, 133, 76, 78, 134, 77, 80, 132, 76, 81...</td>\n",
              "    </tr>\n",
              "    <tr>\n",
              "      <th>9997</th>\n",
              "      <td>0</td>\n",
              "      <td>[20, 15, 12, 19, 14, 11, 15, 14, 11, 15, 14, 1...</td>\n",
              "    </tr>\n",
              "    <tr>\n",
              "      <th>9999</th>\n",
              "      <td>2</td>\n",
              "      <td>[73, 78, 75, 98, 103, 113, 99, 106, 114, 77, 8...</td>\n",
              "    </tr>\n",
              "  </tbody>\n",
              "</table>\n",
              "<p>5000 rows × 2 columns</p>\n",
              "</div>"
            ],
            "text/plain": [
              "      labels                                             images\n",
              "1          3  [235, 235, 235, 231, 231, 231, 232, 232, 232, ...\n",
              "2          3  [158, 190, 222, 158, 187, 218, 139, 166, 194, ...\n",
              "4          1  [65, 68, 50, 70, 81, 64, 48, 64, 46, 30, 46, 3...\n",
              "5          1  [179, 118, 83, 139, 96, 61, 77, 49, 26, 88, 59...\n",
              "7          1  [83, 94, 85, 82, 94, 84, 81, 93, 83, 77, 89, 7...\n",
              "...      ...                                                ...\n",
              "9990       2  [84, 120, 98, 98, 125, 103, 99, 125, 105, 100,...\n",
              "9993       0  [95, 98, 92, 93, 92, 90, 96, 89, 92, 92, 84, 8...\n",
              "9995       3  [76, 78, 133, 76, 78, 134, 77, 80, 132, 76, 81...\n",
              "9997       0  [20, 15, 12, 19, 14, 11, 15, 14, 11, 15, 14, 1...\n",
              "9999       2  [73, 78, 75, 98, 103, 113, 99, 106, 114, 77, 8...\n",
              "\n",
              "[5000 rows x 2 columns]"
            ]
          },
          "metadata": {
            "tags": []
          },
          "execution_count": 12
        }
      ]
    },
    {
      "cell_type": "code",
      "metadata": {
        "id": "rne1W8s90FtH"
      },
      "source": [
        "train_x = list(cifar_train_finaldf[\"images\"].values)\n",
        "train_y = list(cifar_train_finaldf[\"labels\"].values)\n",
        "\n",
        "test_x = list(cifar_test_finaldf[\"images\"].values)\n",
        "test_y = list(cifar_test_finaldf[\"labels\"].values)"
      ],
      "execution_count": null,
      "outputs": []
    },
    {
      "cell_type": "code",
      "metadata": {
        "colab": {
          "base_uri": "https://localhost:8080/"
        },
        "id": "55xXdcgJ5qWO",
        "outputId": "3f58a55f-714f-488b-83c5-41b2ff5eaac7"
      },
      "source": [
        "len(train_y)"
      ],
      "execution_count": null,
      "outputs": [
        {
          "output_type": "execute_result",
          "data": {
            "text/plain": [
              "25000"
            ]
          },
          "metadata": {
            "tags": []
          },
          "execution_count": 14
        }
      ]
    },
    {
      "cell_type": "code",
      "metadata": {
        "id": "nHqsNd-o0d9C"
      },
      "source": [
        "train_labels = to_categorical(train_y, dtype='int16',num_classes=5)\n",
        "test_labels = to_categorical(test_y, dtype='int16',num_classes=5)"
      ],
      "execution_count": null,
      "outputs": []
    },
    {
      "cell_type": "code",
      "metadata": {
        "colab": {
          "base_uri": "https://localhost:8080/"
        },
        "id": "nWsnG9zH5Y3g",
        "outputId": "982986c7-49fc-4452-8b94-efa5dbef5c81"
      },
      "source": [
        "train_labels"
      ],
      "execution_count": null,
      "outputs": [
        {
          "output_type": "execute_result",
          "data": {
            "text/plain": [
              "array([[0, 1, 0, 0, 0],\n",
              "       [0, 0, 0, 0, 1],\n",
              "       [0, 0, 0, 0, 1],\n",
              "       ...,\n",
              "       [1, 0, 0, 0, 0],\n",
              "       [0, 1, 0, 0, 0],\n",
              "       [0, 0, 0, 0, 1]], dtype=int16)"
            ]
          },
          "metadata": {
            "tags": []
          },
          "execution_count": 16
        }
      ]
    },
    {
      "cell_type": "code",
      "metadata": {
        "id": "jJzE-tcWENt4"
      },
      "source": [
        "# convert from integers to floats\n",
        "train_norm = np.array(train_x, dtype=np.float32)\n",
        "test_norm =  np.array(test_x, dtype=np.float32)\n",
        "\n",
        "train_images = np.array(train_norm) / 255.0\n",
        "test_images = np.array(test_norm) / 255.0\n"
      ],
      "execution_count": null,
      "outputs": []
    },
    {
      "cell_type": "markdown",
      "metadata": {
        "id": "MmuBs_VQnFqJ"
      },
      "source": [
        "Classes--> \n",
        "0: airplane\n",
        "1: automobile\n",
        "2: bird\n",
        "3: cat\n",
        "4: deer\n",
        "5: dog\n",
        "6: frog\n",
        "7: horse\n",
        "8: ship\n",
        "9: truck "
      ]
    },
    {
      "cell_type": "code",
      "metadata": {
        "colab": {
          "base_uri": "https://localhost:8080/"
        },
        "id": "1grA1eQ3pXV-",
        "outputId": "ae6cb158-b4f1-494f-a371-783738bb139b"
      },
      "source": [
        "callback = tf.keras.callbacks.EarlyStopping(monitor='loss', patience=3)\n",
        "\n",
        "model = keras.Sequential([\n",
        "    keras.layers.Dense(128, activation=tf.nn.relu,input_shape = (3072,)),\n",
        "    keras.layers.Dense(128, activation=tf.nn.relu),\n",
        "    keras.layers.Dense(128, activation=tf.nn.relu),\n",
        "    keras.layers.Dense(64, activation=tf.nn.relu),\n",
        "    keras.layers.Dense(5, activation=tf.nn.softmax)\n",
        "])\n",
        "\n",
        "model.compile(optimizer='adam', loss='categorical_crossentropy',metrics=['accuracy'])\n",
        "\n",
        "model.summary()"
      ],
      "execution_count": null,
      "outputs": [
        {
          "output_type": "stream",
          "text": [
            "Model: \"sequential_2\"\n",
            "_________________________________________________________________\n",
            "Layer (type)                 Output Shape              Param #   \n",
            "=================================================================\n",
            "dense_10 (Dense)             (None, 128)               393344    \n",
            "_________________________________________________________________\n",
            "dense_11 (Dense)             (None, 128)               16512     \n",
            "_________________________________________________________________\n",
            "dense_12 (Dense)             (None, 128)               16512     \n",
            "_________________________________________________________________\n",
            "dense_13 (Dense)             (None, 64)                8256      \n",
            "_________________________________________________________________\n",
            "dense_14 (Dense)             (None, 5)                 325       \n",
            "=================================================================\n",
            "Total params: 434,949\n",
            "Trainable params: 434,949\n",
            "Non-trainable params: 0\n",
            "_________________________________________________________________\n"
          ],
          "name": "stdout"
        }
      ]
    },
    {
      "cell_type": "code",
      "metadata": {
        "id": "2TmQ9S3D4zk8"
      },
      "source": [
        "model.fit(train_images, train_labels, epochs=500,callbacks=[callback])"
      ],
      "execution_count": null,
      "outputs": []
    },
    {
      "cell_type": "code",
      "metadata": {
        "colab": {
          "base_uri": "https://localhost:8080/"
        },
        "id": "uLVeS_i-43yL",
        "outputId": "f26c3031-0dfa-42b6-a331-ab79fc5f0b61"
      },
      "source": [
        "test_loss, test_acc = model.evaluate(test_images, test_labels)\n",
        "\n",
        "print('\\n Test accuracy:', test_acc)"
      ],
      "execution_count": null,
      "outputs": [
        {
          "output_type": "stream",
          "text": [
            "157/157 [==============================] - 0s 2ms/step - loss: 1.3220 - accuracy: 0.6916\n",
            "\n",
            " Test accuracy: 0.6916000247001648\n"
          ],
          "name": "stdout"
        }
      ]
    },
    {
      "cell_type": "code",
      "metadata": {
        "id": "xORfmmDAJ6E_"
      },
      "source": [
        "test_labels_pred = model.predict(test_images)"
      ],
      "execution_count": null,
      "outputs": []
    },
    {
      "cell_type": "code",
      "metadata": {
        "colab": {
          "base_uri": "https://localhost:8080/"
        },
        "id": "vFprHTzLL96g",
        "outputId": "e29fec15-58c4-48b0-ae5e-c0336c0076df"
      },
      "source": [
        "test_labels_pred"
      ],
      "execution_count": null,
      "outputs": [
        {
          "output_type": "execute_result",
          "data": {
            "text/plain": [
              "array([[3.31101073e-05, 2.44947373e-09, 1.28680118e-03, 7.51400650e-01,\n",
              "        2.47279510e-01],\n",
              "       [2.56702420e-04, 5.03993181e-10, 8.58082622e-03, 9.64718580e-01,\n",
              "        2.64438279e-02],\n",
              "       [4.09935653e-01, 5.89877367e-01, 1.71859589e-04, 1.21712155e-05,\n",
              "        2.96453231e-06],\n",
              "       ...,\n",
              "       [8.82165909e-01, 5.68311382e-03, 1.92969888e-02, 9.22989100e-02,\n",
              "        5.55154926e-04],\n",
              "       [9.99628305e-01, 3.14103345e-05, 3.40160535e-04, 1.24248265e-08,\n",
              "        3.20557731e-08],\n",
              "       [4.75392351e-03, 4.18311730e-03, 9.91040885e-01, 8.15316344e-06,\n",
              "        1.39179438e-05]], dtype=float32)"
            ]
          },
          "metadata": {
            "tags": []
          },
          "execution_count": 25
        }
      ]
    },
    {
      "cell_type": "code",
      "metadata": {
        "id": "KQryZNoIOZxg"
      },
      "source": [
        "pred_test_labels_new = np.argmax(model.predict(test_images),axis=1)"
      ],
      "execution_count": null,
      "outputs": []
    },
    {
      "cell_type": "code",
      "metadata": {
        "colab": {
          "base_uri": "https://localhost:8080/"
        },
        "id": "kQctaXkxOxbO",
        "outputId": "0de3b905-7041-4507-ffc8-a7288d74a00b"
      },
      "source": [
        "pred_test_labels_new"
      ],
      "execution_count": null,
      "outputs": [
        {
          "output_type": "execute_result",
          "data": {
            "text/plain": [
              "array([3, 3, 1, ..., 0, 0, 2])"
            ]
          },
          "metadata": {
            "tags": []
          },
          "execution_count": 27
        }
      ]
    },
    {
      "cell_type": "code",
      "metadata": {
        "id": "wQrcgPn-Rji1"
      },
      "source": [
        "test_labels_new = np.argmax(test_labels,axis=1)"
      ],
      "execution_count": null,
      "outputs": []
    },
    {
      "cell_type": "code",
      "metadata": {
        "id": "BZzCHfJBEKZc"
      },
      "source": [
        "conf_mat = np.zeros((5,5))\n",
        "for i in range(len(test_labels_new)):\n",
        "  conf_mat[test_labels_new[i]][pred_test_labels_new[i]] += 1"
      ],
      "execution_count": null,
      "outputs": []
    },
    {
      "cell_type": "code",
      "metadata": {
        "colab": {
          "base_uri": "https://localhost:8080/"
        },
        "id": "z47QuytcL4GU",
        "outputId": "7da77986-143b-47eb-91d9-968832fe63c9"
      },
      "source": [
        "conf_mat"
      ],
      "execution_count": null,
      "outputs": [
        {
          "output_type": "execute_result",
          "data": {
            "text/plain": [
              "array([[636., 133., 139.,  53.,  39.],\n",
              "       [177., 684.,  79.,  26.,  34.],\n",
              "       [156.,  42., 704.,  27.,  71.],\n",
              "       [ 51.,  24.,  60., 744., 121.],\n",
              "       [ 51.,  43.,  89., 127., 690.]])"
            ]
          },
          "metadata": {
            "tags": []
          },
          "execution_count": 30
        }
      ]
    },
    {
      "cell_type": "code",
      "metadata": {
        "colab": {
          "base_uri": "https://localhost:8080/",
          "height": 279
        },
        "id": "tTZckI6lSQVr",
        "outputId": "8c4dbcf7-dc73-44a3-f9dd-6413e7f350fe"
      },
      "source": [
        "cifar_cm = ConfusionMatrixDisplay(conf_mat,display_labels=['dog','frog','horse','ship','truck']).plot(values_format=\".1f\",cmap='Greens')\n",
        "cifar_cm.figure_figsize = (10,15)"
      ],
      "execution_count": null,
      "outputs": [
        {
          "output_type": "display_data",
          "data": {
            "image/png": "[encoded data removed]",
            "text/plain": [
              "<Figure size 432x288 with 2 Axes>"
            ]
          },
          "metadata": {
            "tags": [],
            "needs_background": "light"
          }
        }
      ]
    },
    {
      "cell_type": "code",
      "metadata": {
        "id": "jjpLEM8XWL_V"
      },
      "source": [
        ""
      ],
      "execution_count": null,
      "outputs": []
    }
  ]
}